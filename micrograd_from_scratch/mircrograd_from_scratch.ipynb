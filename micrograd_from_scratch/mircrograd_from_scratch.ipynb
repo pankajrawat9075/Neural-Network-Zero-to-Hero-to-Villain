{
  "nbformat": 4,
  "nbformat_minor": 0,
  "metadata": {
    "colab": {
      "provenance": []
    },
    "kernelspec": {
      "name": "python3",
      "display_name": "Python 3"
    },
    "language_info": {
      "name": "python"
    }
  },
  "cells": [
    {
      "cell_type": "code",
      "execution_count": 1,
      "metadata": {
        "id": "rd2cQSZQMtcO"
      },
      "outputs": [],
      "source": [
        "import math\n",
        "import numpy as np\n",
        "import matplotlib.pyplot as plt\n",
        "%matplotlib inline"
      ]
    },
    {
      "cell_type": "code",
      "source": [
        "def f(x):\n",
        "  return x ** 3 + x - 3 * x"
      ],
      "metadata": {
        "id": "DzhoJabkYFiG"
      },
      "execution_count": 2,
      "outputs": []
    },
    {
      "cell_type": "code",
      "source": [
        "xs = np.arange(-5, 5.25, .25)\n",
        "ps = f(xs)\n",
        "plt.plot(xs, ps)"
      ],
      "metadata": {
        "colab": {
          "base_uri": "https://localhost:8080/",
          "height": 447
        },
        "id": "feH7dLNhYQlF",
        "outputId": "18c0acb7-7a3d-4c79-b407-ef3bcf280d4b"
      },
      "execution_count": 3,
      "outputs": [
        {
          "output_type": "execute_result",
          "data": {
            "text/plain": [
              "[<matplotlib.lines.Line2D at 0x7bcbb008e980>]"
            ]
          },
          "metadata": {},
          "execution_count": 3
        },
        {
          "output_type": "display_data",
          "data": {
            "text/plain": [
              "<Figure size 640x480 with 1 Axes>"
            ],
            "image/png": "[encoded data removed]"
          },
          "metadata": {}
        }
      ]
    },
    {
      "cell_type": "code",
      "source": [
        "h = .0000001\n",
        "x = 5\n",
        "(f(x+h)-f(x))/h"
      ],
      "metadata": {
        "colab": {
          "base_uri": "https://localhost:8080/"
        },
        "id": "fqnAdTBJZJs3",
        "outputId": "8be4217c-be51-4b07-a7a7-80dc6aa887e3"
      },
      "execution_count": 4,
      "outputs": [
        {
          "output_type": "execute_result",
          "data": {
            "text/plain": [
              "73.00000177679067"
            ]
          },
          "metadata": {},
          "execution_count": 4
        }
      ]
    },
    {
      "cell_type": "code",
      "source": [
        "class Value:\n",
        "\n",
        "  def __init__(self, data, _children=(), _op='', label=''):\n",
        "    self.data = data\n",
        "    self.grad = 0.0\n",
        "    self._backward = lambda: None # this function will automatically calls backward(). initially called at L._backward()\n",
        "                                  # goal is to assign children's gradient\n",
        "    self._prev = set(_children)\n",
        "    self._op = _op\n",
        "    self.label = label\n",
        "\n",
        "  def __repr__(self):\n",
        "    return f\"Value(data={self.data})\"\n",
        "\n",
        "  def __add__(self, other):\n",
        "    # to add constants\n",
        "    other = other if isinstance(other, Value) else Value(other)\n",
        "    out = Value(self.data + other.data, (self, other), '+')\n",
        "\n",
        "    def _backward():\n",
        "      # + just routes the gradient to children\n",
        "      # += signifies gradient accumulation from diff paths\n",
        "      self.grad += out.grad\n",
        "      other.grad += out.grad\n",
        "    out._backward = _backward\n",
        "\n",
        "    return out\n",
        "\n",
        "  def __mul__(self, other):\n",
        "    other = other if isinstance(other, Value) else Value(other)\n",
        "    out = Value(self.data * other.data, (self, other), '*')\n",
        "\n",
        "    def _backward():\n",
        "      # simple chain rule\n",
        "      self.grad += other.data * out.grad\n",
        "      other.grad += self.data * out.grad\n",
        "\n",
        "    out._backward = _backward\n",
        "\n",
        "    return out\n",
        "\n",
        "\n",
        "  def __neg__(self): # -self\n",
        "    return self * -1\n",
        "\n",
        "  def __sub__(self, other): # self - other\n",
        "    return self + (-other)\n",
        "\n",
        "  def __radd__(self, other): # other + self\n",
        "    return self + other\n",
        "\n",
        "  def __rmul__(self, other): # other * mul, but other was a constant\n",
        "    return self * other\n",
        "\n",
        "  def __truediv__(self, other):\n",
        "    return self * other**-1\n",
        "\n",
        "  def exp(self):\n",
        "    x = self.data\n",
        "    out = Value(math.exp(x), (self, ), 'exp')\n",
        "\n",
        "    def _backward():\n",
        "      self.grad += out.data * out.grad\n",
        "    out._backward = _backward\n",
        "\n",
        "    return out\n",
        "\n",
        "  def __pow__(self, other):\n",
        "    assert isinstance(other, (int, float)), \"only supporting int/float powers for now\"\n",
        "    out = Value(self.data**other, (self,), f'**{other}')\n",
        "\n",
        "    def _backward():\n",
        "        self.grad += other * (self.data ** (other - 1)) * out.grad\n",
        "    out._backward = _backward\n",
        "\n",
        "    return out\n",
        "\n",
        "  def tanh(self):\n",
        "    x = self.data\n",
        "    t = (math.exp(2*x)-1)/(math.exp(2*x)+1)\n",
        "    out = Value(t, (self,), 'tanh')\n",
        "\n",
        "    def _backward():\n",
        "      # simple chain rule\n",
        "      self.grad += (1 - t**2) * out.grad\n",
        "\n",
        "    out._backward = _backward\n",
        "\n",
        "    return out\n",
        "\n",
        "\n",
        "  def backward(self):\n",
        "    nodes = []\n",
        "    visited = set()\n",
        "    def build_topo(v):\n",
        "      if v not in visited:\n",
        "        visited.add(v)\n",
        "        for child in v._prev:\n",
        "          build_topo(child)\n",
        "        nodes.append(v)\n",
        "\n",
        "    self.grad = 1.0\n",
        "    build_topo(self)\n",
        "\n",
        "    for n in reversed(nodes):\n",
        "      n._backward()\n",
        "\n",
        "\n",
        "\n",
        "a = Value(2.0, label='a')\n",
        "b = Value(-3.0, label='b')\n",
        "c = Value(10.0, label='c')\n",
        "e = a*b; e.label = 'e'\n",
        "d = e + c; d.label = 'd'\n",
        "f = Value(-2.0, label='f')\n",
        "L = d * f; L.label = 'L'\n",
        "L.grad = 1\n",
        "\n"
      ],
      "metadata": {
        "id": "1BbJdZzleEHD"
      },
      "execution_count": 5,
      "outputs": []
    },
    {
      "cell_type": "code",
      "source": [
        "L.backward()\n",
        "draw_plot(L)"
      ],
      "metadata": {
        "colab": {
          "base_uri": "https://localhost:8080/",
          "height": 212
        },
        "id": "dWj4p1kAoeD7",
        "outputId": "33a31a9a-ca3e-45cd-ca05-73c6db61c574"
      },
      "execution_count": 8,
      "outputs": [
        {
          "output_type": "execute_result",
          "data": {
            "image/svg+xml": "<?xml version=\"1.0\" encoding=\"UTF-8\" standalone=\"no\"?>\n<!DOCTYPE svg PUBLIC \"-//W3C//DTD SVG 1.1//EN\"\n \"http://www.w3.org/Graphics/SVG/1.1/DTD/svg11.dtd\">\n<!-- Generated by graphviz version 2.43.0 (0)\n -->\n<!-- Title: %3 Pages: 1 -->\n<svg width=\"1164pt\" height=\"128pt\"\n viewBox=\"0.00 0.00 1164.00 128.00\" xmlns=\"http://www.w3.org/2000/svg\" xmlns:xlink=\"http://www.w3.org/1999/xlink\">\n<g id=\"graph0\" class=\"graph\" transform=\"scale(1 1) rotate(0) translate(4 124)\">\n<title>%3</title>\n<polygon fill=\"white\" stroke=\"transparent\" points=\"-4,4 -4,-124 1160,-124 1160,4 -4,4\"/>\n<!-- 136114399788048 -->\n<g id=\"node1\" class=\"node\">\n<title>136114399788048</title>\n<polygon fill=\"none\" stroke=\"black\" points=\"649,-27.5 649,-63.5 838,-63.5 838,-27.5 649,-27.5\"/>\n<text text-anchor=\"middle\" x=\"660.5\" y=\"-41.8\" font-family=\"Times,serif\" font-size=\"14.00\">d</text>\n<polyline fill=\"none\" stroke=\"black\" points=\"672,-27.5 672,-63.5 \"/>\n<text text-anchor=\"middle\" x=\"712\" y=\"-41.8\" font-family=\"Times,serif\" font-size=\"14.00\">data 4.0000</text>\n<polyline fill=\"none\" stroke=\"black\" points=\"752,-27.5 752,-63.5 \"/>\n<text text-anchor=\"middle\" x=\"795\" y=\"-41.8\" font-family=\"Times,serif\" font-size=\"14.00\">grad &#45;4.0000</text>\n</g>\n<!-- 136114399787808* -->\n<g id=\"node9\" class=\"node\">\n<title>136114399787808*</title>\n<ellipse fill=\"none\" stroke=\"black\" cx=\"901\" cy=\"-72.5\" rx=\"27\" ry=\"18\"/>\n<text text-anchor=\"middle\" x=\"901\" y=\"-68.8\" font-family=\"Times,serif\" font-size=\"14.00\">*</text>\n</g>\n<!-- 136114399788048&#45;&gt;136114399787808* -->\n<g id=\"edge7\" class=\"edge\">\n<title>136114399788048&#45;&gt;136114399787808*</title>\n<path fill=\"none\" stroke=\"black\" d=\"M838.1,-61.75C847.4,-63.37 856.38,-64.93 864.49,-66.33\"/>\n<polygon fill=\"black\" stroke=\"black\" points=\"864.14,-69.83 874.59,-68.09 865.34,-62.93 864.14,-69.83\"/>\n</g>\n<!-- 136114399788048+ -->\n<g id=\"node2\" class=\"node\">\n<title>136114399788048+</title>\n<ellipse fill=\"none\" stroke=\"black\" cx=\"586\" cy=\"-45.5\" rx=\"27\" ry=\"18\"/>\n<text text-anchor=\"middle\" x=\"586\" y=\"-41.8\" font-family=\"Times,serif\" font-size=\"14.00\">+</text>\n</g>\n<!-- 136114399788048+&#45;&gt;136114399788048 -->\n<g id=\"edge1\" class=\"edge\">\n<title>136114399788048+&#45;&gt;136114399788048</title>\n<path fill=\"none\" stroke=\"black\" d=\"M613.03,-45.5C620.66,-45.5 629.52,-45.5 638.94,-45.5\"/>\n<polygon fill=\"black\" stroke=\"black\" points=\"638.94,-49 648.94,-45.5 638.94,-42 638.94,-49\"/>\n</g>\n<!-- 136114801750608 -->\n<g id=\"node3\" class=\"node\">\n<title>136114801750608</title>\n<polygon fill=\"none\" stroke=\"black\" points=\"328,-55.5 328,-91.5 522,-91.5 522,-55.5 328,-55.5\"/>\n<text text-anchor=\"middle\" x=\"339.5\" y=\"-69.8\" font-family=\"Times,serif\" font-size=\"14.00\">e</text>\n<polyline fill=\"none\" stroke=\"black\" points=\"351,-55.5 351,-91.5 \"/>\n<text text-anchor=\"middle\" x=\"393.5\" y=\"-69.8\" font-family=\"Times,serif\" font-size=\"14.00\">data &#45;6.0000</text>\n<polyline fill=\"none\" stroke=\"black\" points=\"436,-55.5 436,-91.5 \"/>\n<text text-anchor=\"middle\" x=\"479\" y=\"-69.8\" font-family=\"Times,serif\" font-size=\"14.00\">grad &#45;6.0000</text>\n</g>\n<!-- 136114801750608&#45;&gt;136114399788048+ -->\n<g id=\"edge6\" class=\"edge\">\n<title>136114801750608&#45;&gt;136114399788048+</title>\n<path fill=\"none\" stroke=\"black\" d=\"M522.16,-56.57C531.82,-54.87 541.13,-53.23 549.49,-51.75\"/>\n<polygon fill=\"black\" stroke=\"black\" points=\"550.3,-55.17 559.54,-49.98 549.08,-48.27 550.3,-55.17\"/>\n</g>\n<!-- 136114801750608* -->\n<g id=\"node4\" class=\"node\">\n<title>136114801750608*</title>\n<ellipse fill=\"none\" stroke=\"black\" cx=\"264\" cy=\"-73.5\" rx=\"27\" ry=\"18\"/>\n<text text-anchor=\"middle\" x=\"264\" y=\"-69.8\" font-family=\"Times,serif\" font-size=\"14.00\">*</text>\n</g>\n<!-- 136114801750608*&#45;&gt;136114801750608 -->\n<g id=\"edge2\" class=\"edge\">\n<title>136114801750608*&#45;&gt;136114801750608</title>\n<path fill=\"none\" stroke=\"black\" d=\"M291.26,-73.5C299.05,-73.5 308.1,-73.5 317.75,-73.5\"/>\n<polygon fill=\"black\" stroke=\"black\" points=\"317.99,-77 327.99,-73.5 317.99,-70 317.99,-77\"/>\n</g>\n<!-- 136114788828256 -->\n<g id=\"node5\" class=\"node\">\n<title>136114788828256</title>\n<polygon fill=\"none\" stroke=\"black\" points=\"0,-83.5 0,-119.5 201,-119.5 201,-83.5 0,-83.5\"/>\n<text text-anchor=\"middle\" x=\"11.5\" y=\"-97.8\" font-family=\"Times,serif\" font-size=\"14.00\">b</text>\n<polyline fill=\"none\" stroke=\"black\" points=\"23,-83.5 23,-119.5 \"/>\n<text text-anchor=\"middle\" x=\"65.5\" y=\"-97.8\" font-family=\"Times,serif\" font-size=\"14.00\">data &#45;3.0000</text>\n<polyline fill=\"none\" stroke=\"black\" points=\"108,-83.5 108,-119.5 \"/>\n<text text-anchor=\"middle\" x=\"154.5\" y=\"-97.8\" font-family=\"Times,serif\" font-size=\"14.00\">grad &#45;16.0000</text>\n</g>\n<!-- 136114788828256&#45;&gt;136114801750608* -->\n<g id=\"edge5\" class=\"edge\">\n<title>136114788828256&#45;&gt;136114801750608*</title>\n<path fill=\"none\" stroke=\"black\" d=\"M201.02,-84.25C210.41,-82.62 219.44,-81.05 227.56,-79.64\"/>\n<polygon fill=\"black\" stroke=\"black\" points=\"228.42,-83.05 237.68,-77.89 227.23,-76.15 228.42,-83.05\"/>\n</g>\n<!-- 136114801740912 -->\n<g id=\"node6\" class=\"node\">\n<title>136114801740912</title>\n<polygon fill=\"none\" stroke=\"black\" points=\"649.5,-82.5 649.5,-118.5 837.5,-118.5 837.5,-82.5 649.5,-82.5\"/>\n<text text-anchor=\"middle\" x=\"660\" y=\"-96.8\" font-family=\"Times,serif\" font-size=\"14.00\">f</text>\n<polyline fill=\"none\" stroke=\"black\" points=\"670.5,-82.5 670.5,-118.5 \"/>\n<text text-anchor=\"middle\" x=\"713\" y=\"-96.8\" font-family=\"Times,serif\" font-size=\"14.00\">data &#45;2.0000</text>\n<polyline fill=\"none\" stroke=\"black\" points=\"755.5,-82.5 755.5,-118.5 \"/>\n<text text-anchor=\"middle\" x=\"796.5\" y=\"-96.8\" font-family=\"Times,serif\" font-size=\"14.00\">grad 8.0000</text>\n</g>\n<!-- 136114801740912&#45;&gt;136114399787808* -->\n<g id=\"edge8\" class=\"edge\">\n<title>136114801740912&#45;&gt;136114399787808*</title>\n<path fill=\"none\" stroke=\"black\" d=\"M837.65,-83.73C847.2,-82.01 856.43,-80.35 864.72,-78.85\"/>\n<polygon fill=\"black\" stroke=\"black\" points=\"865.47,-82.27 874.69,-77.06 864.23,-75.39 865.47,-82.27\"/>\n</g>\n<!-- 136114788829312 -->\n<g id=\"node7\" class=\"node\">\n<title>136114788829312</title>\n<polygon fill=\"none\" stroke=\"black\" points=\"327,-0.5 327,-36.5 523,-36.5 523,-0.5 327,-0.5\"/>\n<text text-anchor=\"middle\" x=\"338.5\" y=\"-14.8\" font-family=\"Times,serif\" font-size=\"14.00\">c</text>\n<polyline fill=\"none\" stroke=\"black\" points=\"350,-0.5 350,-36.5 \"/>\n<text text-anchor=\"middle\" x=\"393.5\" y=\"-14.8\" font-family=\"Times,serif\" font-size=\"14.00\">data 10.0000</text>\n<polyline fill=\"none\" stroke=\"black\" points=\"437,-0.5 437,-36.5 \"/>\n<text text-anchor=\"middle\" x=\"480\" y=\"-14.8\" font-family=\"Times,serif\" font-size=\"14.00\">grad &#45;6.0000</text>\n</g>\n<!-- 136114788829312&#45;&gt;136114399788048+ -->\n<g id=\"edge4\" class=\"edge\">\n<title>136114788829312&#45;&gt;136114399788048+</title>\n<path fill=\"none\" stroke=\"black\" d=\"M523.07,-34.98C532.42,-36.57 541.43,-38.1 549.55,-39.48\"/>\n<polygon fill=\"black\" stroke=\"black\" points=\"549.21,-42.97 559.65,-41.2 550.38,-36.07 549.21,-42.97\"/>\n</g>\n<!-- 136114399787808 -->\n<g id=\"node8\" class=\"node\">\n<title>136114399787808</title>\n<polygon fill=\"none\" stroke=\"black\" points=\"964,-54.5 964,-90.5 1156,-90.5 1156,-54.5 964,-54.5\"/>\n<text text-anchor=\"middle\" x=\"976.5\" y=\"-68.8\" font-family=\"Times,serif\" font-size=\"14.00\">L</text>\n<polyline fill=\"none\" stroke=\"black\" points=\"989,-54.5 989,-90.5 \"/>\n<text text-anchor=\"middle\" x=\"1031.5\" y=\"-68.8\" font-family=\"Times,serif\" font-size=\"14.00\">data &#45;8.0000</text>\n<polyline fill=\"none\" stroke=\"black\" points=\"1074,-54.5 1074,-90.5 \"/>\n<text text-anchor=\"middle\" x=\"1115\" y=\"-68.8\" font-family=\"Times,serif\" font-size=\"14.00\">grad 1.0000</text>\n</g>\n<!-- 136114399787808*&#45;&gt;136114399787808 -->\n<g id=\"edge3\" class=\"edge\">\n<title>136114399787808*&#45;&gt;136114399787808</title>\n<path fill=\"none\" stroke=\"black\" d=\"M928.28,-72.5C935.78,-72.5 944.44,-72.5 953.67,-72.5\"/>\n<polygon fill=\"black\" stroke=\"black\" points=\"953.87,-76 963.87,-72.5 953.87,-69 953.87,-76\"/>\n</g>\n<!-- 136114788843376 -->\n<g id=\"node10\" class=\"node\">\n<title>136114788843376</title>\n<polygon fill=\"none\" stroke=\"black\" points=\"4.5,-28.5 4.5,-64.5 196.5,-64.5 196.5,-28.5 4.5,-28.5\"/>\n<text text-anchor=\"middle\" x=\"16\" y=\"-42.8\" font-family=\"Times,serif\" font-size=\"14.00\">a</text>\n<polyline fill=\"none\" stroke=\"black\" points=\"27.5,-28.5 27.5,-64.5 \"/>\n<text text-anchor=\"middle\" x=\"67.5\" y=\"-42.8\" font-family=\"Times,serif\" font-size=\"14.00\">data 2.0000</text>\n<polyline fill=\"none\" stroke=\"black\" points=\"107.5,-28.5 107.5,-64.5 \"/>\n<text text-anchor=\"middle\" x=\"152\" y=\"-42.8\" font-family=\"Times,serif\" font-size=\"14.00\">grad 24.0000</text>\n</g>\n<!-- 136114788843376&#45;&gt;136114801750608* -->\n<g id=\"edge9\" class=\"edge\">\n<title>136114788843376&#45;&gt;136114801750608*</title>\n<path fill=\"none\" stroke=\"black\" d=\"M196.85,-62.44C207.76,-64.27 218.31,-66.03 227.66,-67.59\"/>\n<polygon fill=\"black\" stroke=\"black\" points=\"227.21,-71.07 237.65,-69.26 228.37,-64.16 227.21,-71.07\"/>\n</g>\n</g>\n</svg>\n",
            "text/plain": [
              "<graphviz.graphs.Digraph at 0x7bcb9a72b430>"
            ]
          },
          "metadata": {},
          "execution_count": 8
        }
      ]
    },
    {
      "cell_type": "code",
      "source": [
        "from graphviz import Digraph\n",
        "\n",
        "def trace(root):\n",
        "  # builds a set of all nodes and edges in the graph\n",
        "  nodes, edges = set(), set()\n",
        "  def build(v):\n",
        "    if v not in nodes:\n",
        "      nodes.add(v)\n",
        "      for child in v._prev:\n",
        "        edges.add((child, v))\n",
        "        build(child)\n",
        "  build(root)\n",
        "  return nodes, edges\n",
        "\n",
        "def draw_plot(root):\n",
        "  dot = Digraph(format='svg', graph_attr={'rankdir': 'LR'}) # LR = left to right\n",
        "\n",
        "  nodes, edges = trace(root)\n",
        "  for n in nodes:\n",
        "    uid = str(id(n))\n",
        "    # for any value in the graph, create a rectangular ('record') node for it\n",
        "    dot.node(name = uid, label = \"{ %s | data %.4f | grad %.4f }\" % (n.label, n.data, n.grad), shape='record')\n",
        "    if n._op:\n",
        "      # if this value is a result of some operation, create an op node for it\n",
        "      dot.node(name = uid + n._op, label = n._op)\n",
        "      # and connect this node to it\n",
        "      dot.edge(uid + n._op, uid)\n",
        "\n",
        "  for n1, n2 in edges:\n",
        "    # connect n1 to the op node of n2\n",
        "    dot.edge(str(id(n1)), str(id(n2)) + n2._op)\n",
        "\n",
        "  return dot"
      ],
      "metadata": {
        "id": "7cNRFoHLm2-d"
      },
      "execution_count": 7,
      "outputs": []
    },
    {
      "cell_type": "markdown",
      "source": [
        "- To observe : + node basically routes the gradient equally to the children\n",
        "- Gradient nudging help us influence the final value !!!!! this is damn magical\n",
        "- in w1*x1, if x1 = 0, then dL/dw1 = 0. hence for sparse features it's difficult to get influence of it's weight on loss. Hence difficult to converge, RMS prop to rescue( 2nd order moment )"
      ],
      "metadata": {
        "id": "VqOsQImcYwAe"
      }
    },
    {
      "cell_type": "code",
      "source": [
        "import random\n",
        "\n",
        "class Neuron:\n",
        "\n",
        "  def __init__(self, nin):     # nin: no. of inputs to neuron\n",
        "    self.w = [Value(random.uniform(-1,1)) for _ in range(nin)]\n",
        "    self.b = Value(random.uniform(-1,1))\n",
        "\n",
        "  def __call__(self, x):\n",
        "    # perform w * x + b\n",
        "    act = sum(wi*xi for wi, xi in zip(self.w, x)) + self.b\n",
        "    out = act.tanh()\n",
        "    return out\n",
        "\n",
        "  def parameters(self):\n",
        "    return self.w + [self.b]\n",
        "\n",
        "class Layer:\n",
        "\n",
        "  def __init__(self, nin, nout):\n",
        "    self.neurons = [Neuron(nin) for _ in range(nout)]\n",
        "\n",
        "  def __call__(self, x):\n",
        "    out = [neuron(x) for neuron in self.neurons]\n",
        "    return out[0] if len(out) == 1 else out\n",
        "\n",
        "  def parameters(self):\n",
        "    return [p for neuron in self.neurons for p in neuron.parameters()]\n",
        "\n",
        "\n",
        "\n",
        "class MLP:\n",
        "\n",
        "  def __init__(self, nin, nouts):\n",
        "    sizes = [nin] + nouts\n",
        "    self.layers = [Layer(sizes[i], sizes[i+1]) for i in range(len(nouts))]\n",
        "\n",
        "  def __call__(self, x):\n",
        "    for layer in self.layers:\n",
        "      x = layer(x)\n",
        "    return x\n",
        "\n",
        "  def parameters(self):\n",
        "    return [p for layer in self.layers for p in layer.parameters()]\n",
        "\n"
      ],
      "metadata": {
        "id": "9BhQGlPgHmlZ"
      },
      "execution_count": 55,
      "outputs": []
    },
    {
      "cell_type": "code",
      "source": [],
      "metadata": {
        "id": "B5AbjS1Ax8wW"
      },
      "execution_count": null,
      "outputs": []
    },
    {
      "cell_type": "code",
      "source": [
        "n = MLP(3, [2, 4, 3, 1])"
      ],
      "metadata": {
        "id": "cWZ04F_BHmhz"
      },
      "execution_count": 56,
      "outputs": []
    },
    {
      "cell_type": "code",
      "source": [
        "xs = [\n",
        "  [2.0, 3.0, -1.0],\n",
        "  [3.0, -1.0, 0.5],\n",
        "  [0.5, 1.0, 1.0],\n",
        "  [1.0, 1.0, -1.0],\n",
        "]\n",
        "ys = [1.0, -1.0, -1.0, 1.0] # desired targets\n"
      ],
      "metadata": {
        "colab": {
          "base_uri": "https://localhost:8080/"
        },
        "id": "yq8hblsQHmfg",
        "outputId": "5a5a06ac-892f-45cf-a988-85b46696fd75"
      },
      "execution_count": 41,
      "outputs": [
        {
          "output_type": "execute_result",
          "data": {
            "text/plain": [
              "[Value(data=0.8068236924973379),\n",
              " Value(data=0.8137811884109403),\n",
              " Value(data=0.771358835104767),\n",
              " Value(data=0.8073108750689968)]"
            ]
          },
          "metadata": {},
          "execution_count": 41
        }
      ]
    },
    {
      "cell_type": "code",
      "source": [
        "for i in range(50):\n",
        "\n",
        "  # forward pass\n",
        "  ypred = [n(x) for x in xs]\n",
        "  loss = sum((yout - ygt)**2 for yout, ygt in zip(ypred, ys))\n",
        "\n",
        "  for p in n.parameters():\n",
        "    p.grad = 0\n",
        "\n",
        "  loss.backward()\n",
        "\n",
        "  # update\n",
        "  for p in n.parameters():\n",
        "    p.data -= 0.05 * p.grad\n",
        "\n",
        "  print(i, loss.data)\n"
      ],
      "metadata": {
        "colab": {
          "base_uri": "https://localhost:8080/"
        },
        "id": "hf3JIYutpfTQ",
        "outputId": "1e6c991b-7181-4b19-b5cd-be4f91dd4a8c"
      },
      "execution_count": 59,
      "outputs": [
        {
          "output_type": "stream",
          "name": "stdout",
          "text": [
            "0 0.013626284808494597\n",
            "1 0.01331421598016214\n",
            "2 0.013015930174226404\n",
            "3 0.012730540699540417\n",
            "4 0.012457234959869003\n",
            "5 0.012195266899312822\n",
            "6 0.011943950351159052\n",
            "7 0.011702653166835685\n",
            "8 0.011470792020485999\n",
            "9 0.011247827800346387\n",
            "10 0.011033261511185817\n",
            "11 0.01082663062301965\n",
            "12 0.01062750581051302\n",
            "13 0.010435488035251846\n",
            "14 0.010250205929622405\n",
            "15 0.010071313446612086\n",
            "16 0.009898487744579208\n",
            "17 0.009731427280086389\n",
            "18 0.009569850085348724\n",
            "19 0.009413492209817303\n",
            "20 0.009262106307969597\n",
            "21 0.009115460357579123\n",
            "22 0.008973336494638155\n",
            "23 0.008835529952754065\n",
            "24 0.008701848096269968\n",
            "25 0.008572109537603713\n",
            "26 0.008446143330384627\n",
            "27 0.008323788230914087\n",
            "28 0.008204892021305117\n",
            "29 0.008089310888384965\n",
            "30 0.00797690885308154\n",
            "31 0.00786755724557902\n",
            "32 0.0077611342220228665\n",
            "33 0.007657524318993213\n",
            "34 0.0075566180423527075\n",
            "35 0.007458311487419511\n",
            "36 0.00736250598771994\n",
            "37 0.007269107789846932\n",
            "38 0.007178027752192651\n",
            "39 0.007089181065536927\n",
            "40 0.007002486993667744\n",
            "41 0.006917868632379832\n",
            "42 0.006835252685352767\n",
            "43 0.006754569255546954\n",
            "44 0.006675751650880529\n",
            "45 0.006598736203060725\n",
            "46 0.006523462098544586\n",
            "47 0.006449871220692769\n",
            "48 0.0063779080022630195\n",
            "49 0.0063075192874625695\n"
          ]
        }
      ]
    },
    {
      "cell_type": "code",
      "source": [
        "ypred"
      ],
      "metadata": {
        "colab": {
          "base_uri": "https://localhost:8080/"
        },
        "id": "k5eApMsEpfD4",
        "outputId": "168ec901-85ff-4dc6-a189-b2a0ba943dc7"
      },
      "execution_count": 60,
      "outputs": [
        {
          "output_type": "execute_result",
          "data": {
            "text/plain": [
              "[Value(data=0.9639005827553226),\n",
              " Value(data=-0.9693603768520523),\n",
              " Value(data=-0.9550504938845772),\n",
              " Value(data=0.9547771434406386)]"
            ]
          },
          "metadata": {},
          "execution_count": 60
        }
      ]
    }
  ]
}